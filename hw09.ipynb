{
 "cells": [
  {
   "cell_type": "markdown",
   "id": "bbea800c-241d-42b4-a744-ecaffe13959e",
   "metadata": {},
   "source": [
    "# Metadata\n",
    "\n",
    "```yaml\n",
    "Course:  DS 5100\n",
    "Module:  09 Python Packages\n",
    "Topic:   HW Package Booklover\n",
    "Author:  R.C. Alvarado (adapted)\n",
    "Date:    7 July 2023 (revised)\n",
    "```"
   ]
  },
  {
   "cell_type": "markdown",
   "id": "36f46fdd-2405-4dc8-9ea1-33f395e56cc0",
   "metadata": {},
   "source": [
    "# Student Info\n",
    "\n",
    "* Name: Liam Donoghue\n",
    "* Net UD: bat7kt\n",
    "* URL of this file in GitHub: https://github.com/liamrdonoghue/m09hw/blob/main/hw09.ipynb"
   ]
  },
  {
   "cell_type": "markdown",
   "id": "375875a8-1503-46eb-8ea1-7e5bf39b5c41",
   "metadata": {},
   "source": [
    "# Instructions\n",
    "\n",
    "In your **private course repo on Rivanna**, use this Jupyter notebook and the data file described to write code that performs the tasks below. \n",
    "\n",
    "Save your notebook in the `M09` directory.\n",
    "\n",
    "Remember to add and commit these files to your repo. \n",
    "\n",
    "Then push your commits to your repo on GitHib.\n",
    "\n",
    "Be sure to fill out the **Student Info** block above.\n",
    "\n",
    "To submit your homework, save your results as a PDF and upload it to GradeScope. More information about how to create the PDF for this assignment are included at the end of this document.\n",
    "\n",
    "**TOTAL POINTS: 8**"
   ]
  },
  {
   "cell_type": "markdown",
   "id": "1baf08dc-35fe-44f1-bc26-7e1130ee993e",
   "metadata": {},
   "source": [
    "# Overview\n",
    "\n",
    "Follow the following recipe we used in class to package the code you wrote for `HW08` -- `booklover.py` and `booklover_test.py`.\n",
    "\n",
    "* Create a new git repo for your package.\n",
    "* Create and edit the required files and directories for your package and move the booklover modules there.\n",
    "* Stage, commit, and push all the files you've created.\n",
    "* Install your package with pip.\n",
    "* Outside of your package dir, write a script to test your method.\n",
    "\n",
    "Put this notebook in your repo. This will allow you to execute bash commands and capture the outpunt directly in the notebook.\n",
    "\n",
    "**TOTAL: 8 POINTS**"
   ]
  },
  {
   "cell_type": "markdown",
   "id": "6e39ba79-49ee-41e8-9e49-23d9d6bac2e0",
   "metadata": {
    "tags": []
   },
   "source": [
    "# Tasks"
   ]
  },
  {
   "cell_type": "markdown",
   "id": "fb11de14",
   "metadata": {},
   "source": [
    "## Task 1\n",
    "\n",
    "(5 points)\n",
    "\n",
    "Show the directory structure of your repo by running this command from the root of your repo:"
   ]
  },
  {
   "cell_type": "code",
   "execution_count": 1,
   "id": "7e6c6607",
   "metadata": {
    "tags": []
   },
   "outputs": [
    {
     "name": "stdout",
     "output_type": "stream",
     "text": [
      ".:\n",
      "total 21\n",
      "drwx--S--- 4 bat7kt users  4096 Nov  9 00:54 booklover\n",
      "drwx--S--- 2 bat7kt users  4096 Nov  9 00:53 booklover.egg-info\n",
      "drwx--S--- 2 bat7kt users  4096 Nov  8 23:30 BookLover.egg-info\n",
      "drwx--S--- 4 bat7kt users  4096 Nov  8 23:30 build\n",
      "-rw------- 1 bat7kt users 15010 Nov  9 01:08 hw09.ipynb\n",
      "-rw------- 1 bat7kt users  1070 Nov  8 22:08 LICENSE\n",
      "-rw------- 1 bat7kt users    32 Nov  8 22:08 README.md\n",
      "-rw------- 1 bat7kt users   121 Nov  8 23:02 README.txt\n",
      "-rw------- 1 bat7kt users   384 Nov  9 00:32 setup.py\n",
      "drwx--S--- 3 bat7kt users  4096 Nov  9 00:21 test\n",
      "\n",
      "./booklover:\n",
      "total 2\n",
      "-rw------- 1 bat7kt users 1260 Nov  8 22:08 booklover.py\n",
      "-rw------- 1 bat7kt users   32 Nov  9 00:50 __init__.py\n",
      "drwx--S--- 2 bat7kt users 4096 Nov  9 00:54 __pycache__\n",
      "\n",
      "./booklover/__pycache__:\n",
      "total 1\n",
      "-rw------- 1 bat7kt users 2335 Nov  9 00:54 booklover.cpython-311.pyc\n",
      "-rw------- 1 bat7kt users  270 Nov  9 00:54 __init__.cpython-311.pyc\n",
      "\n",
      "./booklover.egg-info:\n",
      "total 3\n",
      "-rw------- 1 bat7kt users   1 Nov  9 00:53 dependency_links.txt\n",
      "-rw-r--r-- 1 bat7kt users 346 Nov  9 00:53 PKG-INFO\n",
      "-rw------- 1 bat7kt users   7 Nov  9 00:53 requires.txt\n",
      "-rw------- 1 bat7kt users 276 Nov  9 00:53 SOURCES.txt\n",
      "-rw------- 1 bat7kt users  15 Nov  9 00:53 top_level.txt\n",
      "\n",
      "./BookLover.egg-info:\n",
      "total 3\n",
      "-rw------- 1 bat7kt users   1 Nov  8 23:30 dependency_links.txt\n",
      "-rw-r--r-- 1 bat7kt users 346 Nov  8 23:30 PKG-INFO\n",
      "-rw------- 1 bat7kt users   7 Nov  8 23:30 requires.txt\n",
      "-rw------- 1 bat7kt users 276 Nov  8 23:30 SOURCES.txt\n",
      "-rw------- 1 bat7kt users  15 Nov  8 23:30 top_level.txt\n",
      "\n",
      "./build:\n",
      "total 1\n",
      "drwx--S--- 2 bat7kt users 4096 Nov  9 00:51 bdist.linux-x86_64\n",
      "drwx--S--- 4 bat7kt users 4096 Nov  8 23:30 lib\n",
      "\n",
      "./build/bdist.linux-x86_64:\n",
      "total 0\n",
      "\n",
      "./build/lib:\n",
      "total 1\n",
      "drwx--S--- 2 bat7kt users 4096 Nov  9 00:51 booklover\n",
      "drwx--S--- 2 bat7kt users 4096 Nov  9 00:51 test\n",
      "\n",
      "./build/lib/booklover:\n",
      "total 1\n",
      "-rw------- 1 bat7kt users 1260 Nov  8 22:08 booklover.py\n",
      "-rw------- 1 bat7kt users   32 Nov  9 00:50 __init__.py\n",
      "\n",
      "./build/lib/test:\n",
      "total 1\n",
      "-rw------- 1 bat7kt users 2365 Nov  9 00:21 booklover_test.py\n",
      "-rw------- 1 bat7kt users    0 Nov  8 23:28 __init__.py\n",
      "\n",
      "./test:\n",
      "total 1\n",
      "-rw------- 1 bat7kt users 2365 Nov  9 00:21 booklover_test.py\n",
      "-rw------- 1 bat7kt users    0 Nov  8 23:28 __init__.py\n"
     ]
    }
   ],
   "source": [
    "!ls -lR"
   ]
  },
  {
   "cell_type": "markdown",
   "id": "6b6f288b-05aa-441b-8c73-84b50b3b6844",
   "metadata": {
    "tags": []
   },
   "source": [
    "## Task 2\n",
    "\n",
    "(1 point)\n",
    "\n",
    "Put the URL of your GitHub repo here. Just paste it into a Markdown cell."
   ]
  },
  {
   "cell_type": "markdown",
   "id": "4d09d889-6104-4f20-b31c-2d8a72b17693",
   "metadata": {},
   "source": [
    "URL: https://github.com/liamrdonoghue/m09hw"
   ]
  },
  {
   "cell_type": "markdown",
   "id": "f989dcd1-b1d2-4eb9-8ef6-8ca2d8495260",
   "metadata": {
    "lines_to_next_cell": 0
   },
   "source": [
    "## Task 3\n",
    "\n",
    "(1 point)\n",
    "\n",
    "Show the results of installing your package.\n",
    "\n",
    "```bash\n",
    "!pip install -e .\n",
    "```"
   ]
  },
  {
   "cell_type": "code",
   "execution_count": 3,
   "id": "c139c6e2-46b5-44f7-b10f-915039f4c912",
   "metadata": {
    "tags": []
   },
   "outputs": [
    {
     "name": "stdout",
     "output_type": "stream",
     "text": [
      "Defaulting to user installation because normal site-packages is not writeable\n",
      "Obtaining file:///sfs/gpfs/tardis/home/bat7kt/Documents/MSDS/DS5100/DS5100-bat7kt/lessons/M09/m09hw\n",
      "  Preparing metadata (setup.py) ... \u001b[?25ldone\n",
      "\u001b[?25hRequirement already satisfied: pandas in /apps/software/standard/core/jupyterlab/3.6.3-py3.11/lib/python3.11/site-packages (from booklover==0.1.0) (2.0.3)\n",
      "Requirement already satisfied: python-dateutil>=2.8.2 in /apps/software/standard/core/jupyterlab/3.6.3-py3.11/lib/python3.11/site-packages (from pandas->booklover==0.1.0) (2.8.2)\n",
      "Requirement already satisfied: pytz>=2020.1 in /apps/software/standard/core/jupyterlab/3.6.3-py3.11/lib/python3.11/site-packages (from pandas->booklover==0.1.0) (2023.3)\n",
      "Requirement already satisfied: tzdata>=2022.1 in /apps/software/standard/core/jupyterlab/3.6.3-py3.11/lib/python3.11/site-packages (from pandas->booklover==0.1.0) (2023.3)\n",
      "Requirement already satisfied: numpy>=1.21.0 in /apps/software/standard/core/jupyterlab/3.6.3-py3.11/lib/python3.11/site-packages (from pandas->booklover==0.1.0) (1.24.4)\n",
      "Requirement already satisfied: six>=1.5 in /apps/software/standard/core/jupyterlab/3.6.3-py3.11/lib/python3.11/site-packages (from python-dateutil>=2.8.2->pandas->booklover==0.1.0) (1.16.0)\n",
      "Installing collected packages: booklover\n",
      "  Attempting uninstall: booklover\n",
      "    Found existing installation: BookLover 0.1.0\n",
      "    Can't uninstall 'BookLover'. No files were found to uninstall.\n",
      "\u001b[33m  DEPRECATION: Legacy editable install of booklover==0.1.0 from file:///sfs/gpfs/tardis/home/bat7kt/Documents/MSDS/DS5100/DS5100-bat7kt/lessons/M09/m09hw (setup.py develop) is deprecated. pip 25.0 will enforce this behaviour change. A possible replacement is to add a pyproject.toml or enable --use-pep517, and use setuptools >= 64. If the resulting installation is not behaving as expected, try using --config-settings editable_mode=compat. Please consult the setuptools documentation for more information. Discussion can be found at https://github.com/pypa/pip/issues/11457\u001b[0m\u001b[33m\n",
      "\u001b[0m  Running setup.py develop for booklover\n",
      "Successfully installed booklover-0.1.0\n"
     ]
    }
   ],
   "source": [
    "!pip install -e ."
   ]
  },
  {
   "cell_type": "markdown",
   "id": "5b1a642e-74f0-43ff-97a3-9ddc7553978e",
   "metadata": {},
   "source": [
    "## Task 4\n",
    "\n",
    "(1 point)\n",
    "\n",
    "Create a file outside your repo to test your package by running it.\n",
    "\n",
    "To do this, import the package into your file and create a BookLover object.\n",
    "\n",
    "Then add a book and then print number books read.\n",
    "\n",
    "Then run the file. \n",
    "\n",
    "Show the output of running the file below, using a command like the following:\n",
    "\n",
    "```bash\n",
    "!python ../book_lover_demo.py\n",
    "```"
   ]
  },
  {
   "cell_type": "markdown",
   "id": "8c106c40-a032-4de1-a514-8f959bfa628d",
   "metadata": {
    "tags": []
   },
   "source": [
    "-bash-4.4$python ../book_lover_demo.py\n",
    "/sfs/gpfs/tardis/home/bat7kt/Documents/MSDS/DS5100/DS5100-bat7kt/lessons/M09/m09hw/booklover/booklover.py:15: FutureWarning: elementwise comparison failed; returning scalar instead, but in the future\n",
    " will perform elementwise comparison\n",
    "  if book_name in self.book_list['book_name'].values:\n",
    "1"
   ]
  },
  {
   "cell_type": "code",
   "execution_count": null,
   "id": "a7577818-57b7-4842-b605-1094c47972e2",
   "metadata": {},
   "outputs": [],
   "source": []
  }
 ],
 "metadata": {
  "jupytext": {
   "cell_metadata_filter": "-all",
   "main_language": "bash",
   "notebook_metadata_filter": "-all"
  },
  "kernelspec": {
   "display_name": "Python 3 (ipykernel)",
   "language": "python",
   "name": "python3"
  },
  "language_info": {
   "codemirror_mode": {
    "name": "ipython",
    "version": 3
   },
   "file_extension": ".py",
   "mimetype": "text/x-python",
   "name": "python",
   "nbconvert_exporter": "python",
   "pygments_lexer": "ipython3",
   "version": "3.11.4"
  },
  "vscode": {
   "interpreter": {
    "hash": "c3b963de08c47c3b6758389c5e0978ad73698a111eb508d4e16b558edb8f4cbf"
   }
  },
  "widgets": {
   "application/vnd.jupyter.widget-state+json": {
    "state": {},
    "version_major": 2,
    "version_minor": 0
   }
  }
 },
 "nbformat": 4,
 "nbformat_minor": 5
}
